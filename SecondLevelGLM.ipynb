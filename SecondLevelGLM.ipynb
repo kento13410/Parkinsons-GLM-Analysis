{
  "nbformat": 4,
  "nbformat_minor": 0,
  "metadata": {
    "colab": {
      "provenance": []
    },
    "kernelspec": {
      "name": "python3",
      "display_name": "Python 3"
    },
    "language_info": {
      "name": "python"
    }
  },
  "cells": [
    {
      "cell_type": "code",
      "source": [
        "from google.colab import drive\n",
        "drive.mount('/content/drive')"
      ],
      "metadata": {
        "id": "DpSP347bDPWy"
      },
      "execution_count": null,
      "outputs": []
    },
    {
      "cell_type": "code",
      "source": [
        "import numpy as np\n",
        "import pandas as pd\n",
        "import matplotlib.pyplot as plt\n",
        "import nibabel as nib"
      ],
      "metadata": {
        "id": "9zOhwfcsDUD9"
      },
      "execution_count": null,
      "outputs": []
    },
    {
      "cell_type": "code",
      "source": [
        "!pip install nilearn"
      ],
      "metadata": {
        "id": "GSCuIpWTDVwj"
      },
      "execution_count": null,
      "outputs": []
    },
    {
      "cell_type": "code",
      "execution_count": null,
      "metadata": {
        "id": "TBeR7H6dAuUD"
      },
      "outputs": [],
      "source": [
        "# 健常者グループの被験者IDのリスト\n",
        "healthy_subject_ids = ['4101', '4103', '4106', '4107', '4109', '4110', '4111', '4112', '4113', '4114', '4115', '4116', '4117', '4118', '4119', '4120', '4121', '4122', '4123', '4125', '4126', '4128', '4129', '4130', '4131']\n",
        "\n",
        "# パーキンソン病患者グループの被験者IDのリスト\n",
        "patient_subject_ids = ['4201', '4204', '4205', '4206', '4207', '4208', '4210', '4211', '4212', '4213', '4214', '4215', '4217', '4218', '4219', '4220', '4221', '4224', '4225', '4226', '4227']"
      ]
    },
    {
      "cell_type": "code",
      "source": [
        "# sessionのリスト\n",
        "ses_ids = ['1', '2']"
      ],
      "metadata": {
        "id": "pqET1G4sQlhq"
      },
      "execution_count": null,
      "outputs": []
    },
    {
      "cell_type": "code",
      "source": [
        "# runsのリスト\n",
        "run_ids = ['1', '2', '3', '4', '5', '6']"
      ],
      "metadata": {
        "id": "AK0aN4G2QrL4"
      },
      "execution_count": null,
      "outputs": []
    },
    {
      "cell_type": "code",
      "source": [
        "vs_titles = [\"alerting\", \"executive\", \"orienting\"]"
      ],
      "metadata": {
        "id": "DGkBGgFpcgyT"
      },
      "execution_count": null,
      "outputs": []
    },
    {
      "cell_type": "code",
      "source": [
        "from nilearn.glm.second_level import SecondLevelModel\n",
        "import random\n",
        "\n",
        "def second_level_glm(vs_title):\n",
        "  contrast_maps = []\n",
        "  for subject_id in healthy_subject_ids + patient_subject_ids:\n",
        "    for ses_id in ses_ids:\n",
        "      for run_id in run_ids:\n",
        "        contrast_maps.append(f'/content/drive/MyDrive/ANT/{vs_title}/sub-RC{subject_id}/ses-{ses_id}/sub-RC{subject_id}_ses-{ses_id}_task-ANT_run-{run_id}_bold.nii.gz')\n",
        "\n",
        "  # 健常者は0、パーキンソン病患者は1\n",
        "  group_labels = [0]*len(healthy_subject_ids)*len(ses_ids)*len(run_ids) + [1]*len(patient_subject_ids)*len(ses_ids)*len(run_ids)\n",
        "  design_matrix = pd.DataFrame({'intercept': np.ones(len(group_labels)), 'group': group_labels})\n",
        "\n",
        "  # 第二レベルモデルの初期化とフィッティング\n",
        "  second_level_model = SecondLevelModel(smoothing_fwhm=8)\n",
        "  second_level_model = second_level_model.fit(contrast_maps, design_matrix=design_matrix)\n",
        "\n",
        "  # 統計マップの計算\n",
        "  z_map = second_level_model.compute_contrast('group', output_type='z_score')\n",
        "\n",
        "  # Bonferroni補正\n",
        "  threshold = -np.log10(0.05 / z_map.get_data().size)\n",
        "\n",
        "  return z_map, threshold"
      ],
      "metadata": {
        "id": "SU_zQiA-GRrJ"
      },
      "execution_count": null,
      "outputs": []
    },
    {
      "cell_type": "code",
      "source": [
        "from nilearn.plotting import plot_stat_map\n",
        "\n",
        "for vs_title in vs_titles:\n",
        "  z_map, threshold = second_level_glm(vs_title)\n",
        "  plot_stat_map(z_map, threshold=threshold, display_mode='z', cut_coords=5, black_bg=True, title=f'Group level contrast - {vs_title}')"
      ],
      "metadata": {
        "id": "l-kFuCusIS3X"
      },
      "execution_count": null,
      "outputs": []
    }
  ]
}