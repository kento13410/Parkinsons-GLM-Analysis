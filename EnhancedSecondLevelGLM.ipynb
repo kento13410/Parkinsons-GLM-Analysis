{
  "nbformat": 4,
  "nbformat_minor": 0,
  "metadata": {
    "colab": {
      "provenance": []
    },
    "kernelspec": {
      "name": "python3",
      "display_name": "Python 3"
    },
    "language_info": {
      "name": "python"
    }
  },
  "cells": [
    {
      "cell_type": "code",
      "source": [
        "from google.colab import drive\n",
        "drive.mount('/content/drive')"
      ],
      "metadata": {
        "id": "DpSP347bDPWy"
      },
      "execution_count": null,
      "outputs": []
    },
    {
      "cell_type": "code",
      "source": [
        "import numpy as np\n",
        "import pandas as pd\n",
        "import matplotlib.pyplot as plt\n",
        "import nibabel as nib"
      ],
      "metadata": {
        "id": "9zOhwfcsDUD9"
      },
      "execution_count": 1,
      "outputs": []
    },
    {
      "cell_type": "code",
      "source": [
        "!pip install nilearn"
      ],
      "metadata": {
        "id": "GSCuIpWTDVwj"
      },
      "execution_count": null,
      "outputs": []
    },
    {
      "cell_type": "code",
      "execution_count": 3,
      "metadata": {
        "id": "TBeR7H6dAuUD"
      },
      "outputs": [],
      "source": [
        "# 健常者グループの被験者IDのリスト\n",
        "healthy_subject_ids = ['4101', '4103', '4106', '4107', '4109', '4110', '4111', '4112', '4113', '4114', '4115', '4116', '4117', '4118', '4119', '4120', '4121', '4122', '4123', '4125', '4126', '4128', '4129', '4130', '4131']\n",
        "\n",
        "# パーキンソン病患者グループの被験者IDのリスト\n",
        "patient_subject_ids = ['4201', '4204', '4205', '4206', '4207', '4208', '4210', '4211', '4212', '4213', '4214', '4215', '4217', '4218', '4219', '4220', '4221', '4224', '4225', '4226', '4227']"
      ]
    },
    {
      "cell_type": "code",
      "source": [
        "# sessionのリスト\n",
        "ses_ids = ['1', '2']"
      ],
      "metadata": {
        "id": "pqET1G4sQlhq"
      },
      "execution_count": 4,
      "outputs": []
    },
    {
      "cell_type": "code",
      "source": [
        "# runsのリスト\n",
        "run_ids = ['1', '2', '3', '4', '5', '6']"
      ],
      "metadata": {
        "id": "AK0aN4G2QrL4"
      },
      "execution_count": 5,
      "outputs": []
    },
    {
      "cell_type": "code",
      "source": [
        "vs_titles = [\"alerting\", \"executive\", \"orienting\"]"
      ],
      "metadata": {
        "id": "DGkBGgFpcgyT"
      },
      "execution_count": 6,
      "outputs": []
    },
    {
      "cell_type": "code",
      "source": [
        "import numpy as np\n",
        "from scipy.stats import f\n",
        "\n",
        "# ウェルチの検定\n",
        "def oneway_ANOVA(*x, equal_var=False):\n",
        "    k = len(x)\n",
        "    ni = np.array([len(y) for y in x])\n",
        "    mi = np.array([np.mean(y) for y in x])\n",
        "    vi = np.array([np.var(y, ddof=1) for y in x])\n",
        "    if equal_var:\n",
        "        n = sum(ni)\n",
        "        mean_x = sum(ni * mi) / n\n",
        "        df1, df2 = k - 1, n - k\n",
        "        F = sum(ni * (mi - mean_x)**2) / df1 / (sum((ni - 1) * vi) / df2)\n",
        "    else:\n",
        "        wi = ni / vi\n",
        "        sum_wi = sum(wi)\n",
        "        tmp = sum((1 - wi / sum_wi)**2 / (ni - 1)) / (k**2 - 1)\n",
        "        m = sum(wi * mi) / sum_wi\n",
        "        df1, df2 = k - 1, 1 / (3 * tmp)\n",
        "        F = sum(wi * (mi - m)**2) / (df1 * (1 + 2 * (k - 2) * tmp))\n",
        "    return F, f.sf(F, df1, df2)\n"
      ],
      "metadata": {
        "id": "plY_ed_ekd-T"
      },
      "execution_count": 7,
      "outputs": []
    },
    {
      "cell_type": "code",
      "source": [
        "from nilearn.input_data import NiftiMasker\n",
        "from nilearn import datasets\n",
        "\n",
        "def get_p_f_value(z_maps):\n",
        "  # MNIアトラスの全脳マスクを取得\n",
        "  mni = datasets.fetch_icbm152_2009()\n",
        "  brain_mask = mni.mask\n",
        "  masker = NiftiMasker(mask_img=brain_mask)\n",
        "  z_map_lists = []\n",
        "  for i in range(len(z_maps)):\n",
        "    z_map_model = masker.fit_transform(z_maps[i])\n",
        "\n",
        "    # ndarray->list\n",
        "    z_map_lists.append(z_map_model.tolist()[0])\n",
        "\n",
        "  # ボクセルごとにANOVAを実行\n",
        "  f_value, p_value = oneway_ANOVA(z_map_lists)\n",
        "\n",
        "  print('F値:', f_value)\n",
        "  print('p値:', p_value)"
      ],
      "metadata": {
        "id": "Nk7nLvAVJ-yV"
      },
      "execution_count": 8,
      "outputs": []
    },
    {
      "cell_type": "code",
      "source": [
        "import numpy as np\n",
        "import pandas as pd\n",
        "from nilearn.glm.second_level import SecondLevelModel\n",
        "from nilearn.plotting import plot_stat_map\n",
        "import random\n",
        "from nilearn.image import concat_imgs, mean_img\n",
        "\n",
        "def compute_glm(contrast_maps, group_labels):\n",
        "    design_matrix = pd.DataFrame({'intercept': np.ones(len(group_labels)), 'group': group_labels})\n",
        "    second_level_model = SecondLevelModel(smoothing_fwhm=8)\n",
        "    second_level_model = second_level_model.fit(contrast_maps, design_matrix=design_matrix)\n",
        "    z_map = second_level_model.compute_contrast('group', output_type='z_score')\n",
        "    return z_map\n",
        "\n",
        "def get_contrast_maps(vs_title, subject_ids, ses_ids, run_ids):\n",
        "    contrast_maps = []\n",
        "    for subject_id in subject_ids:\n",
        "        for ses_id in ses_ids:\n",
        "            for run_id in run_ids:\n",
        "                contrast_map_path = f'/content/drive/MyDrive/ANT/{vs_title}/sub-RC{subject_id}/ses-{ses_id}/sub-RC{subject_id}_ses-{ses_id}_task-ANT_run-{run_id}_bold.nii.gz'\n",
        "                contrast_maps.append(contrast_map_path)\n",
        "    return contrast_maps\n",
        "\n",
        "def random_subset_average(vs_title, healthy_subject_ids, patient_subject_ids, ses_ids, run_ids, iterations=50):\n",
        "    all_z_maps = []\n",
        "    for i in range(iterations):\n",
        "        random_healthy_subset = random.sample(healthy_subject_ids, len(healthy_subject_ids) // 2)\n",
        "        random_patient_subset = random.sample(patient_subject_ids, len(patient_subject_ids) // 2)\n",
        "        contrast_maps = get_contrast_maps(vs_title, random_healthy_subset + random_patient_subset, ses_ids, run_ids)\n",
        "        z_map = compute_glm(contrast_maps, [0]*len(random_healthy_subset)*len(ses_ids)*len(run_ids)+[1]*len(random_patient_subset)*len(ses_ids)*len(run_ids))\n",
        "        all_z_maps.append(z_map)\n",
        "\n",
        "    # 4Dイメージとして統計マップを結合\n",
        "    combined_stat_map = concat_imgs(all_z_maps)\n",
        "\n",
        "    # グループ平均マップの計算\n",
        "    return mean_img(combined_stat_map)\n",
        "\n",
        "def random_subset_diff(vs_title):\n",
        "  # 健常者群のランダムサブセットの平均Zマップを計算\n",
        "  average_healthy_z_map = random_subset_average(vs_title, healthy_subject_ids, [], ses_ids, run_ids)\n",
        "\n",
        "  # 健常者群のランダムサブセットとパーキンソン病患者群のランダムサブセットの平均の差のZマップを計算\n",
        "  average_z_map = random_subset_average(vs_title, healthy_subject_ids, patient_subject_ids, ses_ids, run_ids)\n",
        "\n",
        "  # 健常者群と患者群の間に特有の違いを抽出\n",
        "  unique_group_difference_3d = average_z_map.get_fdata() - average_healthy_z_map.get_fdata()\n",
        "\n",
        "  # Niftyに戻す\n",
        "  group_z_map = nib.Nifti1Image(unique_group_difference_3d, average_z_map.affine)\n",
        "\n",
        "  # 結果のプロット\n",
        "  return group_z_map"
      ],
      "metadata": {
        "id": "0nusoLZSk0Wi"
      },
      "execution_count": null,
      "outputs": []
    },
    {
      "cell_type": "code",
      "source": [
        "from nilearn.plotting import plot_stat_map\n",
        "\n",
        "def get_diff():\n",
        "  group_difference = {}\n",
        "  for vs_title in vs_titles:\n",
        "    z_map = random_subset_diff(vs_title)\n",
        "    group_difference[vs_title] = z_map\n",
        "    plot_stat_map(z_map, threshold=2.3, display_mode='z', cut_coords=5, black_bg=True, title=f'Unique difference between groups - {vs_title}')\n",
        "  return group_difference"
      ],
      "metadata": {
        "id": "eJpm5VgIC4oz"
      },
      "execution_count": null,
      "outputs": []
    },
    {
      "cell_type": "code",
      "source": [
        "# ランダム抽出の統計マップ平均の差（\"健常者群＋パーキンソン病患者群\" - \"健常者群\"）をN個取得する\n",
        "N = 2\n",
        "group_diffs = []\n",
        "for i in range(N):\n",
        "  group_diffs.append(get_diff())"
      ],
      "metadata": {
        "id": "J_jYqFJuiU-e"
      },
      "execution_count": null,
      "outputs": []
    },
    {
      "cell_type": "code",
      "source": [
        "# そのN個のデータの各タイトル毎に、p値を求める\n",
        "# p=1に近ければ近いほど、個人差を省いた均一化に成功している\n",
        "for vs_title in vs_titles:\n",
        "  diffs = []\n",
        "  for i in range(N):\n",
        "    diffs.append(group_diffs[i][vs_title])\n",
        "  print(f'{vs_title}: ')\n",
        "  get_p_f_value(diffs)\n",
        "  print()"
      ],
      "metadata": {
        "id": "w_NV-2hTDOeL"
      },
      "execution_count": null,
      "outputs": []
    },
    {
      "cell_type": "code",
      "source": [
        "from nilearn.glm import threshold_stats_img\n",
        "def fpr(z_map, display):\n",
        "  thresholded_map1, threshold1 = threshold_stats_img(\n",
        "      z_map,\n",
        "      alpha=0.001,\n",
        "      height_control=\"fpr\",\n",
        "      cluster_threshold=10,\n",
        "      two_sided=True,\n",
        "  )\n",
        "\n",
        "  # p<.001 の未補正しきい値マップ (10 ボクセルを超えるクラスターのみ)。\n",
        "  plot_stat_map(\n",
        "      thresholded_map1,\n",
        "      cut_coords=display.cut_coords,\n",
        "      threshold=threshold1,\n",
        "      title=\"Thresholded z map, fpr <.001, clusters > 10 voxels\",\n",
        "  )"
      ],
      "metadata": {
        "id": "-1Z4R7V7MLgw"
      },
      "execution_count": null,
      "outputs": []
    },
    {
      "cell_type": "code",
      "source": [
        "from nilearn.glm import threshold_stats_img\n",
        "def fdr(z_map, display):\n",
        "  thresholded_map2, threshold2 = threshold_stats_img(\n",
        "      z_map, alpha=0.05, height_control=\"fdr\"\n",
        "  )\n",
        "  print(f\"The FDR=.05 threshold is {threshold2:.3g}\")\n",
        "\n",
        "  plot_stat_map(\n",
        "      thresholded_map2,\n",
        "      cut_coords=display.cut_coords,\n",
        "      title=\"Thresholded z map, expected fdr = .05\",\n",
        "      threshold=threshold2,\n",
        "  )"
      ],
      "metadata": {
        "id": "5aI5CIsYOVSt"
      },
      "execution_count": null,
      "outputs": []
    },
    {
      "cell_type": "code",
      "source": [
        "from nilearn.glm import threshold_stats_img\n",
        "def fwer(z_map, display):\n",
        "  # 3. FWER <.05 (ファミリーワイズエラー率) を使用し、クラスターレベルのしきい値は使用しない\n",
        "  # データは集中的に平滑化されていないため、単純なボンフェローニ補正を使用。\n",
        "  thresholded_map3, threshold3 = threshold_stats_img(\n",
        "      z_map, alpha=0.05, height_control=\"bonferroni\"\n",
        "  )\n",
        "  print(f\"The p<.05 Bonferroni-corrected threshold is {threshold3:.3g}\")\n",
        "\n",
        "  plot_stat_map(\n",
        "      thresholded_map3,\n",
        "      cut_coords=display.cut_coords,\n",
        "      title=\"Thresholded z map, expected fwer < .05\",\n",
        "      threshold=threshold3,\n",
        "  )"
      ],
      "metadata": {
        "id": "SeaAic9BOeZP"
      },
      "execution_count": null,
      "outputs": []
    }
  ]
}