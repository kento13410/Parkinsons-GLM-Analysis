{
  "cells": [
    {
      "cell_type": "code",
      "execution_count": null,
      "metadata": {
        "id": "ZrysVM6Mq7hA"
      },
      "outputs": [],
      "source": [
        "from google.colab import drive\n",
        "drive.mount('/content/drive')"
      ]
    },
    {
      "cell_type": "code",
      "execution_count": null,
      "metadata": {
        "id": "O3IsXcTD_5zP"
      },
      "outputs": [],
      "source": [
        "import numpy as np\n",
        "import pandas as pd\n",
        "import matplotlib.pyplot as plt\n",
        "import nibabel as nib"
      ]
    },
    {
      "cell_type": "code",
      "execution_count": null,
      "metadata": {
        "id": "o_vmDKk4HFlN"
      },
      "outputs": [],
      "source": [
        "!pip install nilearn"
      ]
    },
    {
      "cell_type": "code",
      "execution_count": null,
      "metadata": {
        "id": "TBeR7H6dAuUD"
      },
      "outputs": [],
      "source": [
        "# 健常者グループの被験者IDのリスト\n",
        "healthy_subject_ids = ['4101', '4103', '4106', '4107', '4109', '4110', '4111', '4112', '4113', '4114', '4115', '4116', '4117', '4118', '4119', '4120', '4121', '4122', '4123', '4125', '4126', '4128', '4129', '4130', '4131']\n",
        "\n",
        "# パーキンソン病患者グループの被験者IDのリスト\n",
        "patient_subject_ids = ['4201', '4204', '4205', '4206', '4207', '4208', '4210', '4211', '4212', '4213', '4214', '4215', '4217', '4218', '4219', '4220', '4221', '4224', '4225', '4226', '4227']"
      ]
    },
    {
      "cell_type": "code",
      "source": [
        "# sessionのリスト\n",
        "ses_ids = ['1', '2']"
      ],
      "metadata": {
        "id": "pqET1G4sQlhq"
      },
      "execution_count": null,
      "outputs": []
    },
    {
      "cell_type": "code",
      "source": [
        "# runsのリスト\n",
        "run_ids = ['1', '2', '3', '4', '5', '6']"
      ],
      "metadata": {
        "id": "AK0aN4G2QrL4"
      },
      "execution_count": null,
      "outputs": []
    },
    {
      "cell_type": "code",
      "source": [
        "vs_titles = [\"alerting\", \"executive\", \"orienting\"]"
      ],
      "metadata": {
        "id": "DGkBGgFpcgyT"
      },
      "execution_count": null,
      "outputs": []
    },
    {
      "cell_type": "code",
      "execution_count": null,
      "metadata": {
        "id": "QE8SkXiCr2MB"
      },
      "outputs": [],
      "source": [
        "import os\n",
        "\n",
        "directory = \"/content/drive/MyDrive/ANT\"\n",
        "if not os.path.exists(directory):\n",
        "  os.makedirs(directory)\n",
        "\n",
        "# ディレクトリが存在しない場合にのみ作成\n",
        "for vs_title in vs_titles:\n",
        "  vs_directory = directory + \"/\" + vs_title\n",
        "  if not os.path.exists(vs_directory):\n",
        "      os.makedirs(vs_directory)\n",
        "\n",
        "  for subject_id in healthy_subject_ids+patient_subject_ids:\n",
        "    sub_directory = vs_directory + \"/sub-RC\" + subject_id\n",
        "    if not os.path.exists(sub_directory):\n",
        "      os.makedirs(sub_directory)\n",
        "\n",
        "    for ses_id in ses_ids:\n",
        "      ses_directory = sub_directory + \"/ses-\" + ses_id\n",
        "      if not os.path.exists(ses_directory):\n",
        "        os.makedirs(ses_directory)"
      ]
    },
    {
      "cell_type": "code",
      "execution_count": null,
      "metadata": {
        "id": "dXxVt7JQAiIM"
      },
      "outputs": [],
      "source": [
        "import os\n",
        "for subject_id in healthy_subject_ids + patient_subject_ids:\n",
        "  for ses_id in ses_ids:\n",
        "    for run_id in run_ids:\n",
        "      func_file = f'https://s3.amazonaws.com/openneuro.org/ds001907/derivatives/sub-RC{subject_id}/ses-{ses_id}/func/sub-RC{subject_id}_ses-{ses_id}_task-ANT_run-{run_id}_bold.nii.gz'\n",
        "      os.system(f\"wget {func_file}\")\n",
        "      event_file = f'https://s3.amazonaws.com/openneuro.org/ds001907/sub-RC{subject_id}/ses-{ses_id}/func/sub-RC{subject_id}_ses-{ses_id}_task-ANT_run-{run_id}_events.tsv'\n",
        "      os.system(f\"wget {event_file}\")\n"
      ]
    },
    {
      "cell_type": "code",
      "execution_count": null,
      "metadata": {
        "id": "ZSqmdL8MuDXV"
      },
      "outputs": [],
      "source": [
        "from nilearn.image import get_data\n",
        "from nilearn.glm.first_level import FirstLevelModel\n",
        "from nilearn.plotting import plot_stat_map\n",
        "\n",
        "def unit_glm(subject_id, ses_id, run_id):\n",
        "  t_r = 2.4\n",
        "  sigma = 16.5\n",
        "  high_pass = 1 / (2 * t_r * sigma)\n",
        "\n",
        "  glm = FirstLevelModel(t_r=t_r, high_pass=high_pass, smoothing_fwhm=4)\n",
        "\n",
        "  # ファイル名、イベントファイル名を取得\n",
        "  func_filename = f'sub-RC{subject_id}_ses-{ses_id}_task-ANT_run-{run_id}_bold.nii.gz'\n",
        "  event_filename = f'sub-RC{subject_id}_ses-{ses_id}_task-ANT_run-{run_id}_events.tsv'\n",
        "\n",
        "  # fMRIデータの読み込み\n",
        "  fmri_img = nib.load(func_filename)\n",
        "\n",
        "  # デザインマトリックスの読み込み\n",
        "  events = pd.read_csv(event_filename, delimiter='\\t')\n",
        "\n",
        "  # GLMをデータに適用\n",
        "  glm = glm.fit(fmri_img, events=events)\n",
        "\n",
        "  contrasts = {\n",
        "      'alerting': 'CenterCue - NoCue',\n",
        "      'orienting': 'SpatialCue - CenterCue',\n",
        "      'executive': 'Incongruent - Congruent'\n",
        "  }\n",
        "\n",
        "  # google driveに結果を保存する\n",
        "  for name, expression in contrasts.items():\n",
        "      contrast = glm.compute_contrast(expression)\n",
        "      output_filename = f\"/content/drive/MyDrive/ANT/{name}/sub-RC{subject_id}/ses-{ses_id}/{func_filename}\"\n",
        "      nib.save(contrast, output_filename)"
      ]
    },
    {
      "cell_type": "code",
      "execution_count": null,
      "metadata": {
        "id": "95BZNV4XCQqX"
      },
      "outputs": [],
      "source": [
        "# 各被験者についてGLM分析を実行し、結果をGoogle Driveに追加\n",
        "for subject_id in healthy_subject_ids + patient_subject_ids:\n",
        "  for ses_id in ses_ids:\n",
        "    for run_id in run_ids:\n",
        "      unit_glm(subject_id, ses_id, run_id)"
      ]
    }
  ],
  "metadata": {
    "colab": {
      "provenance": []
    },
    "kernelspec": {
      "display_name": "Python 3",
      "name": "python3"
    },
    "language_info": {
      "name": "python"
    }
  },
  "nbformat": 4,
  "nbformat_minor": 0
}